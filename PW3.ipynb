{
 "cells": [
  {
   "cell_type": "markdown",
   "metadata": {},
   "source": [
    "# Postwork 3\n",
    "\n",
    "En este Postwork vamos a explorar las distribuciones de las variables categóricas de nuestro dataset. En el postwork pasado exploramos las variables numéricas y ya deberías de tener una idea general bastante buena de cómo están organizadas. Ahora es momento de hacer análisis de variables categóricas y análisis multivariable. Realiza los siguientes pasos si tiene sentido aplicarlos a tu conjunto de datos:\n",
    "\n",
    "- Si ya tienes gráficas realizadas en Postworks anteriores, agrega títulos, anotaciones y leyendas donde sea necesario. También cambia el tamaño de las gráficas donde tenga sentido hacerlo.\n",
    "\n",
    "- Identifica todas las variables categóricas en tu dataset.\n",
    "\n",
    "- Utiliza gráficas de barras para explorar la distribución de tus variables categóricas.\n",
    "\n",
    "- Planea tu análisis multivariable: ¿qué combinaciones de variables categóricas podrían darme información útil acerca de la distribución de mis datos? ¿qué combinaciones de una variable numérica con una variable categórica podrían ser interesantes?\n",
    "\n",
    "- Utiliza tablas de contingencia y múltiples gráficas en la misma figure para explorar combinaciones de variables categóricas.\n",
    "\n",
    "- Utiliza boxplots y violinplots para explorar combinaciones de variables numéricas con variables categóricas.\n",
    "De preferencia ve registrando por escrito (ahí mismo en tu Notebook) todos tus hallazgos. Describe qué vas descubriendo y qué podría significar.\n"
   ]
  },
  {
   "cell_type": "code",
   "execution_count": 1,
   "metadata": {},
   "outputs": [],
   "source": [
    "import pandas as pd\n",
    "import seaborn as sns\n",
    "import matplotlib.pyplot as plt\n",
    "sns.set(style = 'dark')"
   ]
  },
  {
   "cell_type": "code",
   "execution_count": 2,
   "metadata": {},
   "outputs": [
    {
     "data": {
      "text/html": [
       "<div>\n",
       "<style scoped>\n",
       "    .dataframe tbody tr th:only-of-type {\n",
       "        vertical-align: middle;\n",
       "    }\n",
       "\n",
       "    .dataframe tbody tr th {\n",
       "        vertical-align: top;\n",
       "    }\n",
       "\n",
       "    .dataframe thead th {\n",
       "        text-align: right;\n",
       "    }\n",
       "</style>\n",
       "<table border=\"1\" class=\"dataframe\">\n",
       "  <thead>\n",
       "    <tr style=\"text-align: right;\">\n",
       "      <th></th>\n",
       "      <th>name</th>\n",
       "      <th>ID</th>\n",
       "      <th>ALIGN</th>\n",
       "      <th>EYE</th>\n",
       "      <th>HAIR</th>\n",
       "      <th>SEX</th>\n",
       "      <th>GSM</th>\n",
       "      <th>ALIVE</th>\n",
       "      <th>APPEARANCES</th>\n",
       "      <th>FIRST APPEARANCE</th>\n",
       "      <th>Year</th>\n",
       "    </tr>\n",
       "  </thead>\n",
       "  <tbody>\n",
       "    <tr>\n",
       "      <th>0</th>\n",
       "      <td>Spider-Man (Peter Parker)</td>\n",
       "      <td>Secret Identity</td>\n",
       "      <td>Good Characters</td>\n",
       "      <td>Hazel Eyes</td>\n",
       "      <td>Brown Hair</td>\n",
       "      <td>Male Characters</td>\n",
       "      <td>NaN</td>\n",
       "      <td>Living Characters</td>\n",
       "      <td>4043.0</td>\n",
       "      <td>Aug-62</td>\n",
       "      <td>1962.0</td>\n",
       "    </tr>\n",
       "    <tr>\n",
       "      <th>1</th>\n",
       "      <td>Captain America (Steven Rogers)</td>\n",
       "      <td>Public Identity</td>\n",
       "      <td>Good Characters</td>\n",
       "      <td>Blue Eyes</td>\n",
       "      <td>White Hair</td>\n",
       "      <td>Male Characters</td>\n",
       "      <td>NaN</td>\n",
       "      <td>Living Characters</td>\n",
       "      <td>3360.0</td>\n",
       "      <td>Mar-41</td>\n",
       "      <td>1941.0</td>\n",
       "    </tr>\n",
       "    <tr>\n",
       "      <th>2</th>\n",
       "      <td>Wolverine (James \\\"Logan\\\" Howlett)</td>\n",
       "      <td>Public Identity</td>\n",
       "      <td>Neutral Characters</td>\n",
       "      <td>Blue Eyes</td>\n",
       "      <td>Black Hair</td>\n",
       "      <td>Male Characters</td>\n",
       "      <td>NaN</td>\n",
       "      <td>Living Characters</td>\n",
       "      <td>3061.0</td>\n",
       "      <td>Oct-74</td>\n",
       "      <td>1974.0</td>\n",
       "    </tr>\n",
       "    <tr>\n",
       "      <th>3</th>\n",
       "      <td>Iron Man (Anthony \\\"Tony\\\" Stark)</td>\n",
       "      <td>Public Identity</td>\n",
       "      <td>Good Characters</td>\n",
       "      <td>Blue Eyes</td>\n",
       "      <td>Black Hair</td>\n",
       "      <td>Male Characters</td>\n",
       "      <td>NaN</td>\n",
       "      <td>Living Characters</td>\n",
       "      <td>2961.0</td>\n",
       "      <td>Mar-63</td>\n",
       "      <td>1963.0</td>\n",
       "    </tr>\n",
       "    <tr>\n",
       "      <th>4</th>\n",
       "      <td>Thor (Thor Odinson)</td>\n",
       "      <td>No Dual Identity</td>\n",
       "      <td>Good Characters</td>\n",
       "      <td>Blue Eyes</td>\n",
       "      <td>Blond Hair</td>\n",
       "      <td>Male Characters</td>\n",
       "      <td>NaN</td>\n",
       "      <td>Living Characters</td>\n",
       "      <td>2258.0</td>\n",
       "      <td>Nov-50</td>\n",
       "      <td>1950.0</td>\n",
       "    </tr>\n",
       "  </tbody>\n",
       "</table>\n",
       "</div>"
      ],
      "text/plain": [
       "                                  name                ID               ALIGN  \\\n",
       "0            Spider-Man (Peter Parker)   Secret Identity     Good Characters   \n",
       "1      Captain America (Steven Rogers)   Public Identity     Good Characters   \n",
       "2  Wolverine (James \\\"Logan\\\" Howlett)   Public Identity  Neutral Characters   \n",
       "3    Iron Man (Anthony \\\"Tony\\\" Stark)   Public Identity     Good Characters   \n",
       "4                  Thor (Thor Odinson)  No Dual Identity     Good Characters   \n",
       "\n",
       "          EYE        HAIR              SEX  GSM              ALIVE  \\\n",
       "0  Hazel Eyes  Brown Hair  Male Characters  NaN  Living Characters   \n",
       "1   Blue Eyes  White Hair  Male Characters  NaN  Living Characters   \n",
       "2   Blue Eyes  Black Hair  Male Characters  NaN  Living Characters   \n",
       "3   Blue Eyes  Black Hair  Male Characters  NaN  Living Characters   \n",
       "4   Blue Eyes  Blond Hair  Male Characters  NaN  Living Characters   \n",
       "\n",
       "   APPEARANCES FIRST APPEARANCE    Year  \n",
       "0       4043.0           Aug-62  1962.0  \n",
       "1       3360.0           Mar-41  1941.0  \n",
       "2       3061.0           Oct-74  1974.0  \n",
       "3       2961.0           Mar-63  1963.0  \n",
       "4       2258.0           Nov-50  1950.0  "
      ]
     },
     "execution_count": 2,
     "metadata": {},
     "output_type": "execute_result"
    }
   ],
   "source": [
    "data = pd.read_csv(\"Marvel Movies.csv\")\n",
    "data.head()"
   ]
  },
  {
   "cell_type": "markdown",
   "metadata": {},
   "source": [
    "Las variables categóricas de este conjunto de datos son:\n",
    "\n",
    "- **ID** que establece el estado de la identidad del personaje. "
   ]
  },
  {
   "cell_type": "code",
   "execution_count": 3,
   "metadata": {},
   "outputs": [
    {
     "data": {
      "text/plain": [
       "array(['Secret Identity', 'Public Identity', 'No Dual Identity',\n",
       "       'Known to Authorities Identity', nan], dtype=object)"
      ]
     },
     "execution_count": 3,
     "metadata": {},
     "output_type": "execute_result"
    }
   ],
   "source": [
    "data['ID'].unique()"
   ]
  },
  {
   "cell_type": "code",
   "execution_count": 4,
   "metadata": {},
   "outputs": [
    {
     "data": {
      "text/plain": [
       "Secret Identity                  6275\n",
       "Public Identity                  4528\n",
       "No Dual Identity                 1788\n",
       "Known to Authorities Identity      15\n",
       "Name: ID, dtype: int64"
      ]
     },
     "execution_count": 4,
     "metadata": {},
     "output_type": "execute_result"
    }
   ],
   "source": [
    "id_counts = data['ID'].value_counts()\n",
    "\n",
    "id_counts"
   ]
  },
  {
   "cell_type": "code",
   "execution_count": 5,
   "metadata": {},
   "outputs": [
    {
     "data": {
      "text/plain": [
       "Text(0, 0.5, 'Número de personajes')"
      ]
     },
     "execution_count": 5,
     "metadata": {},
     "output_type": "execute_result"
    },
    {
     "data": {
      "image/png": "[encoded data removed]",
      "text/plain": [
       "<Figure size 640x480 with 1 Axes>"
      ]
     },
     "metadata": {},
     "output_type": "display_data"
    }
   ],
   "source": [
    "fig = plt.figure(figsize=(8,6), dpi = 80)\n",
    "\n",
    "ax = sns.barplot(x = id_counts.index, y = id_counts, palette= 'bright')\n",
    "ax.set_title('Conteo de las identidades de los personajes de Marvel Comics')\n",
    "ax.set_ylabel('Número de personajes')"
   ]
  },
  {
   "cell_type": "code",
   "execution_count": 6,
   "metadata": {},
   "outputs": [
    {
     "data": {
      "text/plain": [
       "array(['Good Characters', 'Neutral Characters', 'Bad Characters', nan],\n",
       "      dtype=object)"
      ]
     },
     "execution_count": 6,
     "metadata": {},
     "output_type": "execute_result"
    }
   ],
   "source": [
    "data['ALIGN'].unique()"
   ]
  },
  {
   "cell_type": "code",
   "execution_count": 7,
   "metadata": {},
   "outputs": [],
   "source": [
    "align_counts = data['ALIGN'].value_counts()\n",
    "\n",
    "percentage_align = align_counts * 100 / align_counts.sum()\n"
   ]
  },
  {
   "cell_type": "code",
   "execution_count": 8,
   "metadata": {},
   "outputs": [
    {
     "data": {
      "text/plain": [
       "Text(0, 0.5, 'Porcentaje de personajes')"
      ]
     },
     "execution_count": 8,
     "metadata": {},
     "output_type": "execute_result"
    },
    {
     "data": {
      "image/png": "[encoded data removed]",
      "text/plain": [
       "<Figure size 640x480 with 1 Axes>"
      ]
     },
     "metadata": {},
     "output_type": "display_data"
    }
   ],
   "source": [
    "fig = plt.figure(figsize=(8,6), dpi = 80)\n",
    "\n",
    "ax = sns.barplot(x = percentage_align.index, y = percentage_align)\n",
    "ax.set_title('Conteo de  de los personajes de Marvel Comics')\n",
    "ax.set_ylabel('Porcentaje de personajes')"
   ]
  },
  {
   "cell_type": "code",
   "execution_count": 9,
   "metadata": {},
   "outputs": [
    {
     "data": {
      "text/plain": [
       "array(['Hazel Eyes', 'Blue Eyes', 'Brown Eyes', 'Green Eyes', 'Grey Eyes',\n",
       "       'Yellow Eyes', 'Gold Eyes', 'Red Eyes', 'Black Eyeballs',\n",
       "       'Amber Eyes', 'Variable Eyes', nan, 'Black Eyes', 'White Eyes',\n",
       "       'Orange Eyes', 'Silver Eyes', 'Purple Eyes', 'Pink Eyes',\n",
       "       'One Eye', 'Violet Eyes', 'Multiple Eyes', 'Magenta Eyes',\n",
       "       'Yellow Eyeballs', 'No Eyes', 'Compound Eyes'], dtype=object)"
      ]
     },
     "execution_count": 9,
     "metadata": {},
     "output_type": "execute_result"
    }
   ],
   "source": [
    "data['EYE'].unique()"
   ]
  },
  {
   "cell_type": "code",
   "execution_count": 10,
   "metadata": {},
   "outputs": [
    {
     "data": {
      "text/plain": [
       "Text(0, 0.5, 'Color de ojos de los personajes')"
      ]
     },
     "execution_count": 10,
     "metadata": {},
     "output_type": "execute_result"
    },
    {
     "data": {
      "image/png": "[encoded data removed]",
      "text/plain": [
       "<Figure size 640x480 with 1 Axes>"
      ]
     },
     "metadata": {},
     "output_type": "display_data"
    }
   ],
   "source": [
    "eye_colors = data['EYE'].value_counts()\n",
    "\n",
    "fig = plt.figure(figsize=(8,6), dpi = 80)\n",
    "\n",
    "ax = sns.barplot(y = eye_colors.index, x = eye_colors, palette='pastel')\n",
    "ax.set_title('Conteo de  de los personajes de Marvel Comics')\n",
    "ax.set_ylabel('Color de ojos de los personajes')"
   ]
  },
  {
   "cell_type": "code",
   "execution_count": 11,
   "metadata": {},
   "outputs": [
    {
     "data": {
      "text/plain": [
       "array(['Brown Hair', 'White Hair', 'Black Hair', 'Blond Hair', 'No Hair',\n",
       "       'Blue Hair', 'Red Hair', 'Bald', 'Auburn Hair', 'Grey Hair',\n",
       "       'Silver Hair', 'Purple Hair', 'Strawberry Blond Hair',\n",
       "       'Green Hair', 'Reddish Blond Hair', 'Gold Hair', nan,\n",
       "       'Orange Hair', 'Pink Hair', 'Variable Hair', 'Yellow Hair',\n",
       "       'Light Brown Hair', 'Magenta Hair', 'Bronze Hair', 'Dyed Hair',\n",
       "       'Orange-brown Hair'], dtype=object)"
      ]
     },
     "execution_count": 11,
     "metadata": {},
     "output_type": "execute_result"
    }
   ],
   "source": [
    "data['HAIR'].unique()"
   ]
  },
  {
   "cell_type": "code",
   "execution_count": 12,
   "metadata": {},
   "outputs": [
    {
     "data": {
      "image/png": "[encoded data removed]",
      "text/plain": [
       "<Figure size 640x480 with 1 Axes>"
      ]
     },
     "metadata": {},
     "output_type": "display_data"
    }
   ],
   "source": [
    "data['SEX'].unique()\n",
    "\n",
    "sex_count = data['SEX'].value_counts()\n",
    "\n",
    "sex_count_pct = sex_count * 100 / sex_count.sum()\n",
    "\n",
    "fig = plt.plot(figsize = (8,6), dapi = 80)\n",
    "\n",
    "ax = sns.barplot(y = sex_count_pct.index, x = sex_count_pct, palette = 'Set2')"
   ]
  },
  {
   "cell_type": "code",
   "execution_count": 13,
   "metadata": {},
   "outputs": [
    {
     "data": {
      "text/plain": [
       "array([nan, 'Bisexual Characters', 'Transvestites',\n",
       "       'Homosexual Characters', 'Pansexual Characters',\n",
       "       'Transgender Characters', 'Genderfluid Characters'], dtype=object)"
      ]
     },
     "execution_count": 13,
     "metadata": {},
     "output_type": "execute_result"
    }
   ],
   "source": [
    "data['GSM'].unique()"
   ]
  },
  {
   "cell_type": "code",
   "execution_count": 14,
   "metadata": {},
   "outputs": [
    {
     "data": {
      "text/plain": [
       "array(['Living Characters', 'Deceased Characters', nan], dtype=object)"
      ]
     },
     "execution_count": 14,
     "metadata": {},
     "output_type": "execute_result"
    }
   ],
   "source": [
    "data['ALIVE'].unique()"
   ]
  },
  {
   "cell_type": "code",
   "execution_count": 32,
   "metadata": {},
   "outputs": [
    {
     "data": {
      "image/png": "[encoded data removed]",
      "text/plain": [
       "<Figure size 640x480 with 1 Axes>"
      ]
     },
     "metadata": {},
     "output_type": "display_data"
    }
   ],
   "source": [
    "alive_count = data['ALIVE'].value_counts()\n",
    "\n",
    "fig = plt.plot(figsize = (8,6), dapi = 80)\n",
    "\n",
    "ax = sns.barplot(x = alive_count.index, y = alive_count, palette = 'Set1')\n"
   ]
  },
  {
   "cell_type": "code",
   "execution_count": 43,
   "metadata": {},
   "outputs": [
    {
     "data": {
      "text/plain": [
       "1939.0"
      ]
     },
     "execution_count": 43,
     "metadata": {},
     "output_type": "execute_result"
    }
   ],
   "source": [
    "data['Year'].max()\n",
    "\n",
    "data['Year'].min()\n"
   ]
  },
  {
   "cell_type": "code",
   "execution_count": 15,
   "metadata": {},
   "outputs": [
    {
     "data": {
      "text/html": [
       "<div>\n",
       "<style scoped>\n",
       "    .dataframe tbody tr th:only-of-type {\n",
       "        vertical-align: middle;\n",
       "    }\n",
       "\n",
       "    .dataframe tbody tr th {\n",
       "        vertical-align: top;\n",
       "    }\n",
       "\n",
       "    .dataframe thead th {\n",
       "        text-align: right;\n",
       "    }\n",
       "</style>\n",
       "<table border=\"1\" class=\"dataframe\">\n",
       "  <thead>\n",
       "    <tr style=\"text-align: right;\">\n",
       "      <th>ALIVE</th>\n",
       "      <th>Deceased Characters</th>\n",
       "      <th>Living Characters</th>\n",
       "    </tr>\n",
       "    <tr>\n",
       "      <th>ID</th>\n",
       "      <th></th>\n",
       "      <th></th>\n",
       "    </tr>\n",
       "  </thead>\n",
       "  <tbody>\n",
       "    <tr>\n",
       "      <th>Known to Authorities Identity</th>\n",
       "      <td>1</td>\n",
       "      <td>14</td>\n",
       "    </tr>\n",
       "    <tr>\n",
       "      <th>No Dual Identity</th>\n",
       "      <td>443</td>\n",
       "      <td>1345</td>\n",
       "    </tr>\n",
       "    <tr>\n",
       "      <th>Public Identity</th>\n",
       "      <td>1044</td>\n",
       "      <td>3484</td>\n",
       "    </tr>\n",
       "    <tr>\n",
       "      <th>Secret Identity</th>\n",
       "      <td>1628</td>\n",
       "      <td>4647</td>\n",
       "    </tr>\n",
       "  </tbody>\n",
       "</table>\n",
       "</div>"
      ],
      "text/plain": [
       "ALIVE                          Deceased Characters  Living Characters\n",
       "ID                                                                   \n",
       "Known to Authorities Identity                    1                 14\n",
       "No Dual Identity                               443               1345\n",
       "Public Identity                               1044               3484\n",
       "Secret Identity                               1628               4647"
      ]
     },
     "execution_count": 15,
     "metadata": {},
     "output_type": "execute_result"
    }
   ],
   "source": [
    "pd.contingency(data['ID'], data['ALIVE'])"
   ]
  },
  {
   "cell_type": "code",
   "execution_count": 45,
   "metadata": {},
   "outputs": [
    {
     "data": {
      "text/html": [
       "<div>\n",
       "<style scoped>\n",
       "    .dataframe tbody tr th:only-of-type {\n",
       "        vertical-align: middle;\n",
       "    }\n",
       "\n",
       "    .dataframe tbody tr th {\n",
       "        vertical-align: top;\n",
       "    }\n",
       "\n",
       "    .dataframe thead tr th {\n",
       "        text-align: left;\n",
       "    }\n",
       "\n",
       "    .dataframe thead tr:last-of-type th {\n",
       "        text-align: right;\n",
       "    }\n",
       "</style>\n",
       "<table border=\"1\" class=\"dataframe\">\n",
       "  <thead>\n",
       "    <tr>\n",
       "      <th>ALIVE</th>\n",
       "      <th colspan=\"3\" halign=\"left\">Deceased Characters</th>\n",
       "      <th colspan=\"4\" halign=\"left\">Living Characters</th>\n",
       "      <th>Total</th>\n",
       "    </tr>\n",
       "    <tr>\n",
       "      <th>SEX</th>\n",
       "      <th>Agender Characters</th>\n",
       "      <th>Female Characters</th>\n",
       "      <th>Male Characters</th>\n",
       "      <th>Agender Characters</th>\n",
       "      <th>Female Characters</th>\n",
       "      <th>Genderfluid Characters</th>\n",
       "      <th>Male Characters</th>\n",
       "      <th></th>\n",
       "    </tr>\n",
       "    <tr>\n",
       "      <th>ID</th>\n",
       "      <th></th>\n",
       "      <th></th>\n",
       "      <th></th>\n",
       "      <th></th>\n",
       "      <th></th>\n",
       "      <th></th>\n",
       "      <th></th>\n",
       "      <th></th>\n",
       "    </tr>\n",
       "  </thead>\n",
       "  <tbody>\n",
       "    <tr>\n",
       "      <th>Known to Authorities Identity</th>\n",
       "      <td>0</td>\n",
       "      <td>1</td>\n",
       "      <td>0</td>\n",
       "      <td>1</td>\n",
       "      <td>4</td>\n",
       "      <td>0</td>\n",
       "      <td>9</td>\n",
       "      <td>15</td>\n",
       "    </tr>\n",
       "    <tr>\n",
       "      <th>No Dual Identity</th>\n",
       "      <td>1</td>\n",
       "      <td>114</td>\n",
       "      <td>318</td>\n",
       "      <td>10</td>\n",
       "      <td>372</td>\n",
       "      <td>1</td>\n",
       "      <td>928</td>\n",
       "      <td>1744</td>\n",
       "    </tr>\n",
       "    <tr>\n",
       "      <th>Public Identity</th>\n",
       "      <td>2</td>\n",
       "      <td>185</td>\n",
       "      <td>840</td>\n",
       "      <td>3</td>\n",
       "      <td>866</td>\n",
       "      <td>0</td>\n",
       "      <td>2527</td>\n",
       "      <td>4423</td>\n",
       "    </tr>\n",
       "    <tr>\n",
       "      <th>Secret Identity</th>\n",
       "      <td>1</td>\n",
       "      <td>330</td>\n",
       "      <td>1256</td>\n",
       "      <td>13</td>\n",
       "      <td>1175</td>\n",
       "      <td>1</td>\n",
       "      <td>3250</td>\n",
       "      <td>6026</td>\n",
       "    </tr>\n",
       "    <tr>\n",
       "      <th>Total</th>\n",
       "      <td>4</td>\n",
       "      <td>630</td>\n",
       "      <td>2414</td>\n",
       "      <td>27</td>\n",
       "      <td>2417</td>\n",
       "      <td>2</td>\n",
       "      <td>6714</td>\n",
       "      <td>12208</td>\n",
       "    </tr>\n",
       "  </tbody>\n",
       "</table>\n",
       "</div>"
      ],
      "text/plain": [
       "ALIVE                         Deceased Characters                    \\\n",
       "SEX                            Agender Characters Female Characters   \n",
       "ID                                                                    \n",
       "Known to Authorities Identity                   0                 1   \n",
       "No Dual Identity                                1               114   \n",
       "Public Identity                                 2               185   \n",
       "Secret Identity                                 1               330   \n",
       "Total                                           4               630   \n",
       "\n",
       "ALIVE                                          Living Characters  \\\n",
       "SEX                           Male Characters Agender Characters   \n",
       "ID                                                                 \n",
       "Known to Authorities Identity               0                  1   \n",
       "No Dual Identity                          318                 10   \n",
       "Public Identity                           840                  3   \n",
       "Secret Identity                          1256                 13   \n",
       "Total                                    2414                 27   \n",
       "\n",
       "ALIVE                                                                   \\\n",
       "SEX                           Female Characters Genderfluid Characters   \n",
       "ID                                                                       \n",
       "Known to Authorities Identity                 4                      0   \n",
       "No Dual Identity                            372                      1   \n",
       "Public Identity                             866                      0   \n",
       "Secret Identity                            1175                      1   \n",
       "Total                                      2417                      2   \n",
       "\n",
       "ALIVE                                          Total  \n",
       "SEX                           Male Characters         \n",
       "ID                                                    \n",
       "Known to Authorities Identity               9     15  \n",
       "No Dual Identity                          928   1744  \n",
       "Public Identity                          2527   4423  \n",
       "Secret Identity                          3250   6026  \n",
       "Total                                    6714  12208  "
      ]
     },
     "execution_count": 45,
     "metadata": {},
     "output_type": "execute_result"
    }
   ],
   "source": [
    "contingency = pd.crosstab(data['ID'], [data['ALIVE'], data['SEX']], margins = True, margins_name= 'Total')\n",
    "contingency"
   ]
  },
  {
   "cell_type": "code",
   "execution_count": 46,
   "metadata": {},
   "outputs": [
    {
     "data": {
      "text/html": [
       "<div>\n",
       "<style scoped>\n",
       "    .dataframe tbody tr th:only-of-type {\n",
       "        vertical-align: middle;\n",
       "    }\n",
       "\n",
       "    .dataframe tbody tr th {\n",
       "        vertical-align: top;\n",
       "    }\n",
       "\n",
       "    .dataframe thead tr th {\n",
       "        text-align: left;\n",
       "    }\n",
       "\n",
       "    .dataframe thead tr:last-of-type th {\n",
       "        text-align: right;\n",
       "    }\n",
       "</style>\n",
       "<table border=\"1\" class=\"dataframe\">\n",
       "  <thead>\n",
       "    <tr>\n",
       "      <th>ALIVE</th>\n",
       "      <th colspan=\"8\" halign=\"left\">Deceased Characters</th>\n",
       "      <th colspan=\"11\" halign=\"left\">Living Characters</th>\n",
       "      <th>Total</th>\n",
       "    </tr>\n",
       "    <tr>\n",
       "      <th>SEX</th>\n",
       "      <th colspan=\"2\" halign=\"left\">Agender Characters</th>\n",
       "      <th colspan=\"3\" halign=\"left\">Female Characters</th>\n",
       "      <th colspan=\"3\" halign=\"left\">Male Characters</th>\n",
       "      <th colspan=\"3\" halign=\"left\">Agender Characters</th>\n",
       "      <th colspan=\"3\" halign=\"left\">Female Characters</th>\n",
       "      <th colspan=\"2\" halign=\"left\">Genderfluid Characters</th>\n",
       "      <th colspan=\"3\" halign=\"left\">Male Characters</th>\n",
       "      <th></th>\n",
       "    </tr>\n",
       "    <tr>\n",
       "      <th>ALIGN</th>\n",
       "      <th>Bad Characters</th>\n",
       "      <th>Neutral Characters</th>\n",
       "      <th>Bad Characters</th>\n",
       "      <th>Good Characters</th>\n",
       "      <th>Neutral Characters</th>\n",
       "      <th>Bad Characters</th>\n",
       "      <th>Good Characters</th>\n",
       "      <th>Neutral Characters</th>\n",
       "      <th>Bad Characters</th>\n",
       "      <th>Good Characters</th>\n",
       "      <th>Neutral Characters</th>\n",
       "      <th>Bad Characters</th>\n",
       "      <th>Good Characters</th>\n",
       "      <th>Neutral Characters</th>\n",
       "      <th>Good Characters</th>\n",
       "      <th>Neutral Characters</th>\n",
       "      <th>Bad Characters</th>\n",
       "      <th>Good Characters</th>\n",
       "      <th>Neutral Characters</th>\n",
       "      <th></th>\n",
       "    </tr>\n",
       "    <tr>\n",
       "      <th>ID</th>\n",
       "      <th></th>\n",
       "      <th></th>\n",
       "      <th></th>\n",
       "      <th></th>\n",
       "      <th></th>\n",
       "      <th></th>\n",
       "      <th></th>\n",
       "      <th></th>\n",
       "      <th></th>\n",
       "      <th></th>\n",
       "      <th></th>\n",
       "      <th></th>\n",
       "      <th></th>\n",
       "      <th></th>\n",
       "      <th></th>\n",
       "      <th></th>\n",
       "      <th></th>\n",
       "      <th></th>\n",
       "      <th></th>\n",
       "      <th></th>\n",
       "    </tr>\n",
       "  </thead>\n",
       "  <tbody>\n",
       "    <tr>\n",
       "      <th>Known to Authorities Identity</th>\n",
       "      <td>0</td>\n",
       "      <td>0</td>\n",
       "      <td>1</td>\n",
       "      <td>0</td>\n",
       "      <td>0</td>\n",
       "      <td>0</td>\n",
       "      <td>0</td>\n",
       "      <td>0</td>\n",
       "      <td>0</td>\n",
       "      <td>0</td>\n",
       "      <td>1</td>\n",
       "      <td>0</td>\n",
       "      <td>3</td>\n",
       "      <td>1</td>\n",
       "      <td>0</td>\n",
       "      <td>0</td>\n",
       "      <td>2</td>\n",
       "      <td>7</td>\n",
       "      <td>0</td>\n",
       "      <td>15</td>\n",
       "    </tr>\n",
       "    <tr>\n",
       "      <th>No Dual Identity</th>\n",
       "      <td>0</td>\n",
       "      <td>1</td>\n",
       "      <td>12</td>\n",
       "      <td>47</td>\n",
       "      <td>34</td>\n",
       "      <td>138</td>\n",
       "      <td>83</td>\n",
       "      <td>55</td>\n",
       "      <td>6</td>\n",
       "      <td>3</td>\n",
       "      <td>1</td>\n",
       "      <td>42</td>\n",
       "      <td>181</td>\n",
       "      <td>87</td>\n",
       "      <td>0</td>\n",
       "      <td>1</td>\n",
       "      <td>255</td>\n",
       "      <td>326</td>\n",
       "      <td>198</td>\n",
       "      <td>1470</td>\n",
       "    </tr>\n",
       "    <tr>\n",
       "      <th>Public Identity</th>\n",
       "      <td>1</td>\n",
       "      <td>1</td>\n",
       "      <td>37</td>\n",
       "      <td>71</td>\n",
       "      <td>50</td>\n",
       "      <td>445</td>\n",
       "      <td>182</td>\n",
       "      <td>120</td>\n",
       "      <td>2</td>\n",
       "      <td>1</td>\n",
       "      <td>0</td>\n",
       "      <td>102</td>\n",
       "      <td>464</td>\n",
       "      <td>155</td>\n",
       "      <td>0</td>\n",
       "      <td>0</td>\n",
       "      <td>817</td>\n",
       "      <td>890</td>\n",
       "      <td>363</td>\n",
       "      <td>3701</td>\n",
       "    </tr>\n",
       "    <tr>\n",
       "      <th>Secret Identity</th>\n",
       "      <td>1</td>\n",
       "      <td>0</td>\n",
       "      <td>155</td>\n",
       "      <td>89</td>\n",
       "      <td>62</td>\n",
       "      <td>790</td>\n",
       "      <td>243</td>\n",
       "      <td>135</td>\n",
       "      <td>8</td>\n",
       "      <td>2</td>\n",
       "      <td>3</td>\n",
       "      <td>419</td>\n",
       "      <td>449</td>\n",
       "      <td>178</td>\n",
       "      <td>1</td>\n",
       "      <td>0</td>\n",
       "      <td>1715</td>\n",
       "      <td>796</td>\n",
       "      <td>392</td>\n",
       "      <td>5438</td>\n",
       "    </tr>\n",
       "    <tr>\n",
       "      <th>Total</th>\n",
       "      <td>2</td>\n",
       "      <td>2</td>\n",
       "      <td>205</td>\n",
       "      <td>207</td>\n",
       "      <td>146</td>\n",
       "      <td>1373</td>\n",
       "      <td>508</td>\n",
       "      <td>310</td>\n",
       "      <td>16</td>\n",
       "      <td>6</td>\n",
       "      <td>5</td>\n",
       "      <td>563</td>\n",
       "      <td>1097</td>\n",
       "      <td>421</td>\n",
       "      <td>1</td>\n",
       "      <td>1</td>\n",
       "      <td>2789</td>\n",
       "      <td>2019</td>\n",
       "      <td>953</td>\n",
       "      <td>10624</td>\n",
       "    </tr>\n",
       "  </tbody>\n",
       "</table>\n",
       "</div>"
      ],
      "text/plain": [
       "ALIVE                         Deceased Characters                     \\\n",
       "SEX                            Agender Characters                      \n",
       "ALIGN                              Bad Characters Neutral Characters   \n",
       "ID                                                                     \n",
       "Known to Authorities Identity                   0                  0   \n",
       "No Dual Identity                                0                  1   \n",
       "Public Identity                                 1                  1   \n",
       "Secret Identity                                 1                  0   \n",
       "Total                                           2                  2   \n",
       "\n",
       "ALIVE                                                            \\\n",
       "SEX                           Female Characters                   \n",
       "ALIGN                            Bad Characters Good Characters   \n",
       "ID                                                                \n",
       "Known to Authorities Identity                 1               0   \n",
       "No Dual Identity                             12              47   \n",
       "Public Identity                              37              71   \n",
       "Secret Identity                             155              89   \n",
       "Total                                       205             207   \n",
       "\n",
       "ALIVE                                                             \\\n",
       "SEX                                              Male Characters   \n",
       "ALIGN                         Neutral Characters  Bad Characters   \n",
       "ID                                                                 \n",
       "Known to Authorities Identity                  0               0   \n",
       "No Dual Identity                              34             138   \n",
       "Public Identity                               50             445   \n",
       "Secret Identity                               62             790   \n",
       "Total                                        146            1373   \n",
       "\n",
       "ALIVE                                                             \\\n",
       "SEX                                                                \n",
       "ALIGN                         Good Characters Neutral Characters   \n",
       "ID                                                                 \n",
       "Known to Authorities Identity               0                  0   \n",
       "No Dual Identity                           83                 55   \n",
       "Public Identity                           182                120   \n",
       "Secret Identity                           243                135   \n",
       "Total                                     508                310   \n",
       "\n",
       "ALIVE                          Living Characters                  \\\n",
       "SEX                           Agender Characters                   \n",
       "ALIGN                             Bad Characters Good Characters   \n",
       "ID                                                                 \n",
       "Known to Authorities Identity                  0               0   \n",
       "No Dual Identity                               6               3   \n",
       "Public Identity                                2               1   \n",
       "Secret Identity                                8               2   \n",
       "Total                                         16               6   \n",
       "\n",
       "ALIVE                                                               \\\n",
       "SEX                                              Female Characters   \n",
       "ALIGN                         Neutral Characters    Bad Characters   \n",
       "ID                                                                   \n",
       "Known to Authorities Identity                  1                 0   \n",
       "No Dual Identity                               1                42   \n",
       "Public Identity                                0               102   \n",
       "Secret Identity                                3               419   \n",
       "Total                                          5               563   \n",
       "\n",
       "ALIVE                                                             \\\n",
       "SEX                                                                \n",
       "ALIGN                         Good Characters Neutral Characters   \n",
       "ID                                                                 \n",
       "Known to Authorities Identity               3                  1   \n",
       "No Dual Identity                          181                 87   \n",
       "Public Identity                           464                155   \n",
       "Secret Identity                           449                178   \n",
       "Total                                    1097                421   \n",
       "\n",
       "ALIVE                                                                    \\\n",
       "SEX                           Genderfluid Characters                      \n",
       "ALIGN                                Good Characters Neutral Characters   \n",
       "ID                                                                        \n",
       "Known to Authorities Identity                      0                  0   \n",
       "No Dual Identity                                   0                  1   \n",
       "Public Identity                                    0                  0   \n",
       "Secret Identity                                    1                  0   \n",
       "Total                                              1                  1   \n",
       "\n",
       "ALIVE                                                          \\\n",
       "SEX                           Male Characters                   \n",
       "ALIGN                          Bad Characters Good Characters   \n",
       "ID                                                              \n",
       "Known to Authorities Identity               2               7   \n",
       "No Dual Identity                          255             326   \n",
       "Public Identity                           817             890   \n",
       "Secret Identity                          1715             796   \n",
       "Total                                    2789            2019   \n",
       "\n",
       "ALIVE                                             Total  \n",
       "SEX                                                      \n",
       "ALIGN                         Neutral Characters         \n",
       "ID                                                       \n",
       "Known to Authorities Identity                  0     15  \n",
       "No Dual Identity                             198   1470  \n",
       "Public Identity                              363   3701  \n",
       "Secret Identity                              392   5438  \n",
       "Total                                        953  10624  "
      ]
     },
     "execution_count": 46,
     "metadata": {},
     "output_type": "execute_result"
    }
   ],
   "source": [
    "contingency_2 = pd.crosstab(data['ID'], [data['ALIVE'], data['SEX'],data['ALIGN']], margins = True, margins_name= 'Total')\n",
    "\n",
    "contingency_2\n"
   ]
  },
  {
   "cell_type": "code",
   "execution_count": 17,
   "metadata": {},
   "outputs": [
    {
     "data": {
      "text/html": [
       "<div>\n",
       "<style scoped>\n",
       "    .dataframe tbody tr th:only-of-type {\n",
       "        vertical-align: middle;\n",
       "    }\n",
       "\n",
       "    .dataframe tbody tr th {\n",
       "        vertical-align: top;\n",
       "    }\n",
       "\n",
       "    .dataframe thead th {\n",
       "        text-align: right;\n",
       "    }\n",
       "</style>\n",
       "<table border=\"1\" class=\"dataframe\">\n",
       "  <thead>\n",
       "    <tr style=\"text-align: right;\">\n",
       "      <th></th>\n",
       "      <th>name</th>\n",
       "      <th>ID</th>\n",
       "      <th>ALIGN</th>\n",
       "      <th>EYE</th>\n",
       "      <th>HAIR</th>\n",
       "      <th>SEX</th>\n",
       "      <th>GSM</th>\n",
       "      <th>ALIVE</th>\n",
       "      <th>APPEARANCES</th>\n",
       "      <th>FIRST APPEARANCE</th>\n",
       "      <th>Year</th>\n",
       "    </tr>\n",
       "  </thead>\n",
       "  <tbody>\n",
       "    <tr>\n",
       "      <th>2137</th>\n",
       "      <td>Leper Queen (Earth-616)</td>\n",
       "      <td>Known to Authorities Identity</td>\n",
       "      <td>Bad Characters</td>\n",
       "      <td>Brown Eyes</td>\n",
       "      <td>Bald</td>\n",
       "      <td>Female Characters</td>\n",
       "      <td>NaN</td>\n",
       "      <td>Deceased Characters</td>\n",
       "      <td>17.0</td>\n",
       "      <td>6-Jan</td>\n",
       "      <td>2006.0</td>\n",
       "    </tr>\n",
       "  </tbody>\n",
       "</table>\n",
       "</div>"
      ],
      "text/plain": [
       "                         name                             ID           ALIGN  \\\n",
       "2137  Leper Queen (Earth-616)  Known to Authorities Identity  Bad Characters   \n",
       "\n",
       "             EYE  HAIR                SEX  GSM                ALIVE  \\\n",
       "2137  Brown Eyes  Bald  Female Characters  NaN  Deceased Characters   \n",
       "\n",
       "      APPEARANCES FIRST APPEARANCE    Year  \n",
       "2137         17.0            6-Jan  2006.0  "
      ]
     },
     "execution_count": 17,
     "metadata": {},
     "output_type": "execute_result"
    }
   ],
   "source": [
    "data[(data['ID'] == 'Known to Authorities Identity') & (data['ALIVE'] == 'Deceased Characters')]"
   ]
  },
  {
   "cell_type": "code",
   "execution_count": null,
   "metadata": {},
   "outputs": [],
   "source": []
  }
 ],
 "metadata": {
  "kernelspec": {
   "display_name": "Python 3.10.8 64-bit (microsoft store)",
   "language": "python",
   "name": "python3"
  },
  "language_info": {
   "codemirror_mode": {
    "name": "ipython",
    "version": 3
   },
   "file_extension": ".py",
   "mimetype": "text/x-python",
   "name": "python",
   "nbconvert_exporter": "python",
   "pygments_lexer": "ipython3",
   "version": "3.10.8"
  },
  "orig_nbformat": 4,
  "vscode": {
   "interpreter": {
    "hash": "015228567aad51ec78ea438af017505189109c183cee0d015d00b888b8f36de5"
   }
  }
 },
 "nbformat": 4,
 "nbformat_minor": 2
}
